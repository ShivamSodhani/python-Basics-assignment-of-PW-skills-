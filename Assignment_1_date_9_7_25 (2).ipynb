{
  "nbformat": 4,
  "nbformat_minor": 0,
  "metadata": {
    "colab": {
      "provenance": []
    },
    "kernelspec": {
      "name": "python3",
      "display_name": "Python 3"
    },
    "language_info": {
      "name": "python"
    }
  },
  "cells": [
    {
      "cell_type": "markdown",
      "source": [
        "# **Python basic question**"
      ],
      "metadata": {
        "id": "36t_Z_8tM4s0"
      }
    },
    {
      "cell_type": "markdown",
      "source": [],
      "metadata": {
        "id": "YaJlU_XgeTBb"
      }
    },
    {
      "cell_type": "markdown",
      "source": [
        "Q1 . What is Python, and why is it popular ?\n",
        "\n",
        "Answer - Python is a high-level, interpreted programming language known for its simplicity, readability, and versatility. It is used for analysis of diffrent kinds of data which is used in daily life for example BMI calculator , percentage calculator etc .\n",
        "\n",
        "Python is used for:\n",
        "\n",
        "Data analysis and visualization\n",
        "\n",
        "Machine learning and artificial\n",
        "intelligence\n",
        "\n",
        "Automation and scripting\n",
        "\n",
        "Web development"
      ],
      "metadata": {
        "id": "CqikMpC0NCuf"
      }
    },
    {
      "cell_type": "markdown",
      "source": [
        "Q2 . What is an interpreter in Python\n",
        "\n",
        "Answer - An interpreter is a program that reads and executes Python code line by line.\n",
        "\n",
        "interpreter does\n",
        "\n",
        "read the code\n",
        "\n",
        "translates it\n",
        "\n",
        "execute it"
      ],
      "metadata": {
        "id": "rIarFS2iNwBC"
      }
    },
    {
      "cell_type": "markdown",
      "source": [
        "Q 3 . What are pre-defined keywords in Python\n",
        "\n",
        "Answer ."
      ],
      "metadata": {
        "id": "kE_G2UlJOnS2"
      }
    },
    {
      "cell_type": "code",
      "source": [
        "help(\"keywords\")"
      ],
      "metadata": {
        "colab": {
          "base_uri": "https://localhost:8080/"
        },
        "id": "Y8_d003PPKUP",
        "outputId": "67307d2e-3907-47cd-a766-b0914ce33e12"
      },
      "execution_count": null,
      "outputs": [
        {
          "output_type": "stream",
          "name": "stdout",
          "text": [
            "\n",
            "Here is a list of the Python keywords.  Enter any keyword to get more help.\n",
            "\n",
            "False               class               from                or\n",
            "None                continue            global              pass\n",
            "True                def                 if                  raise\n",
            "and                 del                 import              return\n",
            "as                  elif                in                  try\n",
            "assert              else                is                  while\n",
            "async               except              lambda              with\n",
            "await               finally             nonlocal            yield\n",
            "break               for                 not                 \n",
            "\n"
          ]
        }
      ]
    },
    {
      "cell_type": "markdown",
      "source": [
        "Q 4 . Can keywords be used as variable names ?\n",
        "\n",
        "Answer - No keywords can not be used as variables beacuse their function are already defines in the system\n",
        "If keywords are used as variables then the system couldnot operate the code and shows invalid syntax\n"
      ],
      "metadata": {
        "id": "vmd3EwLqParM"
      }
    },
    {
      "cell_type": "markdown",
      "source": [
        "Q 5 . What is mutability in Python\n",
        "\n",
        "Answe - the term mutability is defined as the term python object can be changed after it is created\n",
        "\n",
        "It is of two types\n",
        "1 . Mutable\n",
        "2 . Im mutable"
      ],
      "metadata": {
        "id": "ZA7QJhC4QPaq"
      }
    },
    {
      "cell_type": "code",
      "source": [
        "# 1 . Mutable\n"
      ],
      "metadata": {
        "id": "VAPYsS_jNBmS"
      },
      "execution_count": null,
      "outputs": []
    },
    {
      "cell_type": "code",
      "execution_count": null,
      "metadata": {
        "colab": {
          "base_uri": "https://localhost:8080/"
        },
        "id": "A6LcyGwDMyTn",
        "outputId": "c001cb56-8667-4d62-f222-67e208b4d5ab"
      },
      "outputs": [
        {
          "output_type": "stream",
          "name": "stdout",
          "text": [
            "[100, 2, 3]\n"
          ]
        }
      ],
      "source": [
        "my_list = [1 , 2 , 3]\n",
        "my_list[0] = 100\n",
        "print(my_list)"
      ]
    },
    {
      "cell_type": "code",
      "source": [
        "# 2 Immutable"
      ],
      "metadata": {
        "id": "WmAOsSiPRkgn"
      },
      "execution_count": null,
      "outputs": []
    },
    {
      "cell_type": "code",
      "source": [
        "my_list = [ \" pwskills \"]\n",
        "my_list[3] = 100\n",
        "print(my_list)"
      ],
      "metadata": {
        "colab": {
          "base_uri": "https://localhost:8080/",
          "height": 181
        },
        "id": "syDt2L44Rm2V",
        "outputId": "09f7aa8c-5f82-47cf-90e8-3142b9199799"
      },
      "execution_count": null,
      "outputs": [
        {
          "output_type": "error",
          "ename": "IndexError",
          "evalue": "list assignment index out of range",
          "traceback": [
            "\u001b[0;31m---------------------------------------------------------------------------\u001b[0m",
            "\u001b[0;31mIndexError\u001b[0m                                Traceback (most recent call last)",
            "\u001b[0;32m/tmp/ipython-input-7-676209230.py\u001b[0m in \u001b[0;36m<cell line: 0>\u001b[0;34m()\u001b[0m\n\u001b[1;32m      1\u001b[0m \u001b[0mmy_list\u001b[0m \u001b[0;34m=\u001b[0m \u001b[0;34m[\u001b[0m \u001b[0;34m\" pwskills \"\u001b[0m\u001b[0;34m]\u001b[0m\u001b[0;34m\u001b[0m\u001b[0;34m\u001b[0m\u001b[0m\n\u001b[0;32m----> 2\u001b[0;31m \u001b[0mmy_list\u001b[0m\u001b[0;34m[\u001b[0m\u001b[0;36m3\u001b[0m\u001b[0;34m]\u001b[0m \u001b[0;34m=\u001b[0m \u001b[0;36m100\u001b[0m\u001b[0;34m\u001b[0m\u001b[0;34m\u001b[0m\u001b[0m\n\u001b[0m\u001b[1;32m      3\u001b[0m \u001b[0mprint\u001b[0m\u001b[0;34m(\u001b[0m\u001b[0mmy_list\u001b[0m\u001b[0;34m)\u001b[0m\u001b[0;34m\u001b[0m\u001b[0;34m\u001b[0m\u001b[0m\n",
            "\u001b[0;31mIndexError\u001b[0m: list assignment index out of range"
          ]
        }
      ]
    },
    {
      "cell_type": "markdown",
      "source": [
        "Q. 6 Why are lists mutable, but tuples are immutable ?\n",
        "\n",
        "Answer - lists are mutable beacuse it consist of things which you are modify but tupples meant to store fixed data which can not be stored"
      ],
      "metadata": {
        "id": "X-udXLDWR2qb"
      }
    },
    {
      "cell_type": "code",
      "source": [
        "# why list are mutables\n",
        "my_list = [1 , 2 , 3]\n",
        "my_list[0] = 100\n",
        "print(my_list)"
      ],
      "metadata": {
        "colab": {
          "base_uri": "https://localhost:8080/"
        },
        "id": "w8PEi3PZSR9s",
        "outputId": "0059b8cd-68c5-4695-c7fb-704b3c78961c"
      },
      "execution_count": null,
      "outputs": [
        {
          "output_type": "stream",
          "name": "stdout",
          "text": [
            "[100, 2, 3]\n"
          ]
        }
      ]
    },
    {
      "cell_type": "code",
      "source": [
        "# why tuples are not mutable\n",
        "my_tuples = [1 , 2 , 3]\n",
        "my_tuples(0) = 14\n",
        "print(my_tuples)"
      ],
      "metadata": {
        "colab": {
          "base_uri": "https://localhost:8080/",
          "height": 127
        },
        "id": "8wLN5NbYSako",
        "outputId": "32b9c09a-8933-4c56-d163-c6d56f8f07d4"
      },
      "execution_count": null,
      "outputs": [
        {
          "output_type": "error",
          "ename": "SyntaxError",
          "evalue": "cannot assign to function call here. Maybe you meant '==' instead of '='? (ipython-input-10-2403423587.py, line 3)",
          "traceback": [
            "\u001b[0;36m  File \u001b[0;32m\"/tmp/ipython-input-10-2403423587.py\"\u001b[0;36m, line \u001b[0;32m3\u001b[0m\n\u001b[0;31m    my_tuples(0) = 14\u001b[0m\n\u001b[0m    ^\u001b[0m\n\u001b[0;31mSyntaxError\u001b[0m\u001b[0;31m:\u001b[0m cannot assign to function call here. Maybe you meant '==' instead of '='?\n"
          ]
        }
      ]
    },
    {
      "cell_type": "markdown",
      "source": [
        "Q . 7 What is the difference between “==” and “is” operators in Python ?\n",
        "\n",
        "Answer - \"==\" it means values are equal to each other\n",
        "\"is\" it means identity"
      ],
      "metadata": {
        "id": "sntWfdo5S1Ad"
      }
    },
    {
      "cell_type": "code",
      "source": [
        "# for example\n",
        "\n",
        "a = 100\n",
        "b = 100\n",
        "print(a==b)\n",
        "print(a is b)"
      ],
      "metadata": {
        "colab": {
          "base_uri": "https://localhost:8080/"
        },
        "id": "VDx5J9fnTiRo",
        "outputId": "7d75886f-79ec-438b-eca9-d5c4baac7133"
      },
      "execution_count": null,
      "outputs": [
        {
          "output_type": "stream",
          "name": "stdout",
          "text": [
            "True\n",
            "True\n"
          ]
        }
      ]
    },
    {
      "cell_type": "code",
      "source": [
        "a = 100\n",
        "b = 95\n",
        "print(a == b)\n",
        "print(a is b)"
      ],
      "metadata": {
        "colab": {
          "base_uri": "https://localhost:8080/"
        },
        "id": "i04_2bnUTuHh",
        "outputId": "9a8c0050-72af-4130-d8d9-c87823d98c03"
      },
      "execution_count": null,
      "outputs": [
        {
          "output_type": "stream",
          "name": "stdout",
          "text": [
            "False\n",
            "False\n"
          ]
        }
      ]
    },
    {
      "cell_type": "code",
      "source": [
        "a = [1 , 2 , 3]\n",
        "b = [1 , 2 , 3]\n",
        "print(a == b)\n",
        "print ( a is b)"
      ],
      "metadata": {
        "colab": {
          "base_uri": "https://localhost:8080/"
        },
        "id": "3z3i1o6VUApo",
        "outputId": "4059f84f-1f50-4820-8adf-2e4a1138cf64"
      },
      "execution_count": null,
      "outputs": [
        {
          "output_type": "stream",
          "name": "stdout",
          "text": [
            "True\n",
            "False\n"
          ]
        }
      ]
    },
    {
      "cell_type": "code",
      "source": [],
      "metadata": {
        "id": "3T-r7VzAV0IZ"
      },
      "execution_count": null,
      "outputs": []
    },
    {
      "cell_type": "markdown",
      "source": [
        "Q 8 . What are logical operators in Python ?\n",
        "\n",
        "Answer = logical operators are of basically three types AND , OR & NOT  type\n",
        "\n",
        "These give true or false on the basis of diffrent logics\n",
        "\n",
        "AND operators =\n",
        "\n",
        "                T and T = T\n",
        "\n",
        "                T and F = F\n",
        "\n",
        "                F and T = F\n",
        "\n",
        "                F and F = F\n",
        "\n",
        "OR operators =\n",
        "\n",
        "               T or T = T\n",
        "\n",
        "               F or T = F\n",
        "\n",
        "               T or F = F\n",
        "\n",
        "               F or F = F\n",
        "\n",
        "\n",
        "            "
      ],
      "metadata": {
        "id": "cahd4agYUXPe"
      }
    },
    {
      "cell_type": "code",
      "source": [
        "a = 5\n",
        "b = 10\n",
        "a and b\n",
        "a > b"
      ],
      "metadata": {
        "colab": {
          "base_uri": "https://localhost:8080/"
        },
        "id": "oi8scg1rVpHv",
        "outputId": "c530504d-c043-4391-f4a0-55a5042d0cf2"
      },
      "execution_count": null,
      "outputs": [
        {
          "output_type": "execute_result",
          "data": {
            "text/plain": [
              "False"
            ]
          },
          "metadata": {},
          "execution_count": 25
        }
      ]
    },
    {
      "cell_type": "code",
      "source": [
        "a or b\n",
        "a > b"
      ],
      "metadata": {
        "colab": {
          "base_uri": "https://localhost:8080/"
        },
        "id": "fKwurFqUWA3m",
        "outputId": "ebdb4f1d-57fa-488f-852e-9be4225105ce"
      },
      "execution_count": null,
      "outputs": [
        {
          "output_type": "execute_result",
          "data": {
            "text/plain": [
              "False"
            ]
          },
          "metadata": {},
          "execution_count": 26
        }
      ]
    },
    {
      "cell_type": "markdown",
      "source": [
        "Q. 9 What is type casting in Python ?\n",
        "\n",
        "Answer -\n",
        "\n",
        "The process of changing the data type of a value / object\n",
        "\n",
        "Two type of type casting\n",
        "\n",
        "1 . implict\n",
        "\n",
        "2 . explict"
      ],
      "metadata": {
        "id": "ORuPkMrXWatQ"
      }
    },
    {
      "cell_type": "markdown",
      "source": [
        "Q 10 What is the difference between implicit and explicit type casting ?\n",
        "\n",
        "Answe =\n",
        "\n",
        "1 . Implict type casting\n",
        "\n",
        "done automatically by python\n",
        "\n",
        "2 . Explicit type casting\n",
        "\n",
        "Done manually by the programmer using functions like int(), float(), str(), etc.\n"
      ],
      "metadata": {
        "id": "FwsGv2QTW9IS"
      }
    },
    {
      "cell_type": "code",
      "source": [
        "# Implicit type casting\n",
        "\n",
        "a = 5\n",
        "b = 2.0\n",
        "print(a+b)\n",
        "type(a)\n",
        "type(b)"
      ],
      "metadata": {
        "colab": {
          "base_uri": "https://localhost:8080/"
        },
        "id": "Ny8TdGCEXZVo",
        "outputId": "45de8123-84ff-4d8b-ed35-6a63670a9783"
      },
      "execution_count": null,
      "outputs": [
        {
          "output_type": "stream",
          "name": "stdout",
          "text": [
            "7.0\n"
          ]
        },
        {
          "output_type": "execute_result",
          "data": {
            "text/plain": [
              "float"
            ]
          },
          "metadata": {},
          "execution_count": 29
        }
      ]
    },
    {
      "cell_type": "code",
      "source": [
        "type(a)"
      ],
      "metadata": {
        "colab": {
          "base_uri": "https://localhost:8080/"
        },
        "id": "aHWpc-YgWZ8v",
        "outputId": "194e4776-46e9-4f0c-fc6e-68058d3c16a1"
      },
      "execution_count": null,
      "outputs": [
        {
          "output_type": "execute_result",
          "data": {
            "text/plain": [
              "int"
            ]
          },
          "metadata": {},
          "execution_count": 31
        }
      ]
    },
    {
      "cell_type": "code",
      "source": [
        "type(b)  # so in implicit type casting it automatically change from\n",
        "int to float"
      ],
      "metadata": {
        "colab": {
          "base_uri": "https://localhost:8080/"
        },
        "id": "4StsYxSTXqFx",
        "outputId": "66ee3f85-61f9-4a25-cf31-a303f5ff44f9"
      },
      "execution_count": null,
      "outputs": [
        {
          "output_type": "execute_result",
          "data": {
            "text/plain": [
              "float"
            ]
          },
          "metadata": {},
          "execution_count": 32
        }
      ]
    },
    {
      "cell_type": "code",
      "source": [
        "# Explicit type casting\n",
        "\n",
        "x = 5\n",
        "y = int(x)\n",
        "print(y + 10)"
      ],
      "metadata": {
        "colab": {
          "base_uri": "https://localhost:8080/"
        },
        "id": "wPEC-awLXrkY",
        "outputId": "e54e3223-695a-42f1-b893-4988766910e1"
      },
      "execution_count": null,
      "outputs": [
        {
          "output_type": "stream",
          "name": "stdout",
          "text": [
            "15\n"
          ]
        }
      ]
    },
    {
      "cell_type": "code",
      "source": [
        "type(x)"
      ],
      "metadata": {
        "colab": {
          "base_uri": "https://localhost:8080/"
        },
        "id": "5ajwbKd6YS3q",
        "outputId": "502078b3-0fd4-4b97-f612-58a92b3d92fe"
      },
      "execution_count": null,
      "outputs": [
        {
          "output_type": "execute_result",
          "data": {
            "text/plain": [
              "int"
            ]
          },
          "metadata": {},
          "execution_count": 34
        }
      ]
    },
    {
      "cell_type": "code",
      "source": [
        "type"
      ],
      "metadata": {
        "colab": {
          "base_uri": "https://localhost:8080/"
        },
        "id": "nBvxFz6pYUzG",
        "outputId": "f928306b-78ce-4f82-cf6b-e50129635fdf"
      },
      "execution_count": null,
      "outputs": [
        {
          "output_type": "execute_result",
          "data": {
            "text/plain": [
              "int"
            ]
          },
          "metadata": {},
          "execution_count": 35
        }
      ]
    },
    {
      "cell_type": "markdown",
      "source": [
        "Q 11 .  What is the purpose of conditional statements in Python  ?\n",
        "\n",
        "Answer =\n",
        "purpose of conditional statement to build up the condition on the basis of true or false\n"
      ],
      "metadata": {
        "id": "6lPSwXfQYivy"
      }
    },
    {
      "cell_type": "code",
      "source": [
        "age = 18\n",
        "\n",
        "if age < 18:\n",
        "    print(\"Minor\")\n",
        "elif age == 18:\n",
        "    print(\"Just became adult\")\n",
        "else:\n",
        "    print(\"Adult\")\n"
      ],
      "metadata": {
        "colab": {
          "base_uri": "https://localhost:8080/"
        },
        "id": "jHR6n60JZCCE",
        "outputId": "f5e963e5-5d77-4532-c635-1f8e2bdaf8a5"
      },
      "execution_count": null,
      "outputs": [
        {
          "output_type": "stream",
          "name": "stdout",
          "text": [
            "Just became adult\n"
          ]
        }
      ]
    },
    {
      "cell_type": "code",
      "source": [
        "marks = 95\n",
        "\n",
        "if marks > 90:\n",
        "    print(\"Grade A\")\n",
        "elif marks >= 80:\n",
        "    print(\"Grade B\")\n",
        "else:\n",
        "    print(\"Grade C\")\n"
      ],
      "metadata": {
        "colab": {
          "base_uri": "https://localhost:8080/"
        },
        "id": "7b60hy0nZ1JM",
        "outputId": "0361fb86-f25f-46fa-eb06-be7af138bda9"
      },
      "execution_count": null,
      "outputs": [
        {
          "output_type": "stream",
          "name": "stdout",
          "text": [
            "Grade A\n"
          ]
        }
      ]
    },
    {
      "cell_type": "markdown",
      "source": [
        "Q 12 = How does the elif statement work ?\n",
        "\n",
        "Ans = elif statement work on the basis of \"else if \"\n",
        "\n",
        "this is the condition in which we use to check multiple condition\n",
        "\n",
        "1 . Python checks the if condition.\n",
        "\n",
        "2 . If it's True, it runs that block and skips all the rest.\n",
        "\n",
        "3 . If it's False, it checks the next elif condition.\n",
        "\n",
        "4 . If none of the conditions are True, it runs the else block (if present).\n",
        "\n",
        "\n"
      ],
      "metadata": {
        "id": "bM9Eh7xla5Gx"
      }
    },
    {
      "cell_type": "markdown",
      "source": [
        "Q 13 . What is the difference between for and while loops\n",
        "\n",
        "Answer =\n",
        "\n",
        "Both for and while loops are used to repeat code, but they are used in different situations.\n",
        "\n",
        "\n",
        "\n"
      ],
      "metadata": {
        "id": "UfQlsdEBbtmW"
      }
    },
    {
      "cell_type": "code",
      "source": [
        "# for loops\n",
        "\n",
        "for i in range(9):\n",
        "    print(i)\n"
      ],
      "metadata": {
        "colab": {
          "base_uri": "https://localhost:8080/"
        },
        "id": "Vf6wGSJvbb_M",
        "outputId": "4388544e-a565-4e99-ab6b-ae66ac803ff1"
      },
      "execution_count": null,
      "outputs": [
        {
          "output_type": "stream",
          "name": "stdout",
          "text": [
            "0\n",
            "1\n",
            "2\n",
            "3\n",
            "4\n",
            "5\n",
            "6\n",
            "7\n",
            "8\n"
          ]
        }
      ]
    },
    {
      "cell_type": "code",
      "source": [
        "# while loops\n",
        "\n",
        "i = 0\n",
        "while i<9:\n",
        "  print(i)\n",
        "  i += 1\n",
        "\n",
        "\n",
        "\n"
      ],
      "metadata": {
        "colab": {
          "base_uri": "https://localhost:8080/"
        },
        "id": "B5lR-Px7cdIE",
        "outputId": "be93314d-cfe5-43d4-a434-d6b7e4c77baa"
      },
      "execution_count": null,
      "outputs": [
        {
          "output_type": "stream",
          "name": "stdout",
          "text": [
            "0\n",
            "1\n",
            "2\n",
            "3\n",
            "4\n",
            "5\n",
            "6\n",
            "7\n",
            "8\n"
          ]
        }
      ]
    },
    {
      "cell_type": "markdown",
      "source": [
        "Q . 14  Describe a scenario where a while loop is more suitable than a for loop.\n",
        "\n",
        "Answer =\n",
        "\n",
        "A while loop is perfect when you're waiting for something to happen — like a correct password, internet connection, or sensor signal — and you can’t predict how long it will take."
      ],
      "metadata": {
        "id": "CdZJimyBc89d"
      }
    },
    {
      "cell_type": "code",
      "source": [
        "correct_password = \"pw skills\"\n",
        "user_input = \"pw skills\"\n",
        "\n",
        "while user_input != correct_password:\n",
        "    user_input = input(\"Enter password: \")\n",
        "\n",
        "print(\"Access granted!\")\n"
      ],
      "metadata": {
        "colab": {
          "base_uri": "https://localhost:8080/"
        },
        "id": "QRE9nSnWdcUH",
        "outputId": "6efb5bc6-c67b-49de-acb1-bffa1765b64f"
      },
      "execution_count": null,
      "outputs": [
        {
          "output_type": "stream",
          "name": "stdout",
          "text": [
            "Access granted!\n"
          ]
        }
      ]
    },
    {
      "cell_type": "markdown",
      "source": [
        "**PRACTICAL QUESTIONS **"
      ],
      "metadata": {
        "id": "WCilxUlHeD7m"
      }
    },
    {
      "cell_type": "markdown",
      "source": [
        "Q 1 .  Write a Python program to print \"Hello, World!"
      ],
      "metadata": {
        "id": "YHloqsl4eNc3"
      }
    },
    {
      "cell_type": "code",
      "source": [
        "print(\"hello world \")"
      ],
      "metadata": {
        "colab": {
          "base_uri": "https://localhost:8080/"
        },
        "id": "j2hsUHC7ecYd",
        "outputId": "3f34be69-0c28-4146-812d-f67ad9893f43"
      },
      "execution_count": null,
      "outputs": [
        {
          "output_type": "stream",
          "name": "stdout",
          "text": [
            "hello world \n"
          ]
        }
      ]
    },
    {
      "cell_type": "code",
      "source": [
        "name = \" world \"\n",
        "print(f\"hello, {name}\") # f string format"
      ],
      "metadata": {
        "colab": {
          "base_uri": "https://localhost:8080/"
        },
        "id": "Al9BxE9xehKH",
        "outputId": "2cc7774e-00ab-46e9-d2ad-854760b5fdfe"
      },
      "execution_count": null,
      "outputs": [
        {
          "output_type": "stream",
          "name": "stdout",
          "text": [
            "hello,  world \n"
          ]
        }
      ]
    },
    {
      "cell_type": "code",
      "source": [
        "print(f\"hello\" +\" \"+ \"world\")\n"
      ],
      "metadata": {
        "colab": {
          "base_uri": "https://localhost:8080/"
        },
        "id": "r_anGLiUe4L3",
        "outputId": "39358161-d5bf-4a18-8224-10da5cceeb2f"
      },
      "execution_count": null,
      "outputs": [
        {
          "output_type": "stream",
          "name": "stdout",
          "text": [
            "hello world\n"
          ]
        }
      ]
    },
    {
      "cell_type": "code",
      "source": [
        "name = \"world\"\n",
        "print(\"hello {}\".format(name)) # dot format"
      ],
      "metadata": {
        "colab": {
          "base_uri": "https://localhost:8080/"
        },
        "id": "vIAfd5nKfDBM",
        "outputId": "ed5d7f1e-e314-47b0-a6ae-f91abedce727"
      },
      "execution_count": null,
      "outputs": [
        {
          "output_type": "stream",
          "name": "stdout",
          "text": [
            "hello world\n"
          ]
        }
      ]
    },
    {
      "cell_type": "markdown",
      "source": [
        "Q 2 . 8 Write a Python program that displays your name and age ?\n",
        "\n",
        "Answer"
      ],
      "metadata": {
        "id": "szyYBEVTfNxl"
      }
    },
    {
      "cell_type": "code",
      "source": [
        "name = \"shivam sodhani\"\n",
        "age = 22\n",
        "print(name)\n",
        "print(age)"
      ],
      "metadata": {
        "colab": {
          "base_uri": "https://localhost:8080/"
        },
        "id": "__fzl6ejfbCQ",
        "outputId": "13da391f-3693-4eb9-eac3-72105c7fbbd9"
      },
      "execution_count": null,
      "outputs": [
        {
          "output_type": "stream",
          "name": "stdout",
          "text": [
            "shivam sodhani\n",
            "22\n"
          ]
        }
      ]
    },
    {
      "cell_type": "code",
      "source": [
        "name = \"shivam sodhani\"\n",
        "age = 22\n",
        "print(\"my name is \", name)\n",
        "print(\"i am \", age, \"years old \" )"
      ],
      "metadata": {
        "colab": {
          "base_uri": "https://localhost:8080/"
        },
        "id": "34c-Tcpgfvp8",
        "outputId": "8323511f-8d1a-4189-b033-4d43e15bd20d"
      },
      "execution_count": null,
      "outputs": [
        {
          "output_type": "stream",
          "name": "stdout",
          "text": [
            "my name is  shivam sodhani\n",
            "i am  22 years old \n"
          ]
        }
      ]
    },
    {
      "cell_type": "markdown",
      "source": [
        "Q 3 . Write code to print all the pre-defined keywords in Python using the keyword library ?\n",
        "\n",
        "Answer"
      ],
      "metadata": {
        "id": "hBMZBjHUgQId"
      }
    },
    {
      "cell_type": "code",
      "source": [
        "help(\"keywords\")"
      ],
      "metadata": {
        "colab": {
          "base_uri": "https://localhost:8080/"
        },
        "id": "e4dFM8s1gU1T",
        "outputId": "2477c9a5-663b-4d42-e86a-4c4bc1fb4e9c"
      },
      "execution_count": null,
      "outputs": [
        {
          "output_type": "stream",
          "name": "stdout",
          "text": [
            "\n",
            "Here is a list of the Python keywords.  Enter any keyword to get more help.\n",
            "\n",
            "False               class               from                or\n",
            "None                continue            global              pass\n",
            "True                def                 if                  raise\n",
            "and                 del                 import              return\n",
            "as                  elif                in                  try\n",
            "assert              else                is                  while\n",
            "async               except              lambda              with\n",
            "await               finally             nonlocal            yield\n",
            "break               for                 not                 \n",
            "\n"
          ]
        }
      ]
    },
    {
      "cell_type": "markdown",
      "source": [
        "Q 4 . Write a program that checks if a given word is a Python keyword ?\n",
        "\n",
        "Answer"
      ],
      "metadata": {
        "id": "hVZ4C-_0gp9X"
      }
    },
    {
      "cell_type": "code",
      "source": [
        "import keyword\n",
        "\n",
        "\n",
        "word = input(\"Enter a word: \")\n",
        "\n",
        "# Check if it's a keyword\n",
        "if keyword.iskeyword(word):\n",
        "    print(f\"'{word}' is a Python keyword.\")\n",
        "else:\n",
        "    print(f\"'{word}' is NOT a Python keyword.\")\n"
      ],
      "metadata": {
        "colab": {
          "base_uri": "https://localhost:8080/"
        },
        "id": "2K1DeOWbgyOL",
        "outputId": "ddbf2e7a-c204-4976-d301-92f9411fe357"
      },
      "execution_count": null,
      "outputs": [
        {
          "output_type": "stream",
          "name": "stdout",
          "text": [
            "Enter a word: apple\n",
            "'apple' is NOT a Python keyword.\n"
          ]
        }
      ]
    },
    {
      "cell_type": "code",
      "source": [
        "import keyword\n",
        "\n",
        "\n",
        "word = input(\"Enter a word: \")\n",
        "\n",
        "# Check if it's a keyword\n",
        "if keyword.iskeyword(word):\n",
        "    print(f\"'{word}' is a Python keyword.\")\n",
        "else:\n",
        "    print(f\"'{word}' is NOT a Python keyword.\")\n"
      ],
      "metadata": {
        "colab": {
          "base_uri": "https://localhost:8080/"
        },
        "id": "PVQXLT4IiGYf",
        "outputId": "6fc60a89-ed8b-4bb7-e86a-4dcd9e87bcde"
      },
      "execution_count": null,
      "outputs": [
        {
          "output_type": "stream",
          "name": "stdout",
          "text": [
            "Enter a word: else\n",
            "'else' is a Python keyword.\n"
          ]
        }
      ]
    },
    {
      "cell_type": "markdown",
      "source": [
        "Q 5 . Create a list and tuple in Python, and demonstrate how attempting to change an element works differently\n",
        "for each.\n",
        "\n",
        "Answer"
      ],
      "metadata": {
        "id": "fmQVDb47ihyg"
      }
    },
    {
      "cell_type": "code",
      "source": [
        "# list\n",
        "\n",
        "my_list = [1 , 2 , 3]\n",
        "my_list[0] = 100\n",
        "print(my_list)\n",
        "\n",
        "\n",
        "\n"
      ],
      "metadata": {
        "colab": {
          "base_uri": "https://localhost:8080/"
        },
        "id": "S4bNeMRJip7B",
        "outputId": "c0d8b83e-315e-4928-e3f3-0adf5831df12"
      },
      "execution_count": null,
      "outputs": [
        {
          "output_type": "stream",
          "name": "stdout",
          "text": [
            "[100, 2, 3]\n"
          ]
        }
      ]
    },
    {
      "cell_type": "code",
      "source": [
        "#  tuples\n",
        "\n",
        "my_tuples = [1 , 2 , 3]\n",
        "my_tuples(0) = 14\n",
        "print(my_tuples)"
      ],
      "metadata": {
        "colab": {
          "base_uri": "https://localhost:8080/",
          "height": 127
        },
        "id": "E3i2Eajrif0Q",
        "outputId": "5d1aa28b-695a-4147-879f-63542e70edc8"
      },
      "execution_count": null,
      "outputs": [
        {
          "output_type": "error",
          "ename": "SyntaxError",
          "evalue": "cannot assign to function call here. Maybe you meant '==' instead of '='? (ipython-input-98-2577455463.py, line 4)",
          "traceback": [
            "\u001b[0;36m  File \u001b[0;32m\"/tmp/ipython-input-98-2577455463.py\"\u001b[0;36m, line \u001b[0;32m4\u001b[0m\n\u001b[0;31m    my_tuples(0) = 14\u001b[0m\n\u001b[0m    ^\u001b[0m\n\u001b[0;31mSyntaxError\u001b[0m\u001b[0;31m:\u001b[0m cannot assign to function call here. Maybe you meant '==' instead of '='?\n"
          ]
        }
      ]
    },
    {
      "cell_type": "markdown",
      "source": [
        "Q 6 . . Write a function to demonstrate the behavior of mutable and immutable arguments?\n",
        "\n",
        "Answer -"
      ],
      "metadata": {
        "id": "_wSmuy7JjYKF"
      }
    },
    {
      "cell_type": "code",
      "source": [
        "# mutable\n",
        "\n",
        "my_list = [1 , 2 , 3]\n",
        "my_list[0] = 100\n",
        "print(my_list)\n",
        "\n"
      ],
      "metadata": {
        "colab": {
          "base_uri": "https://localhost:8080/"
        },
        "id": "b24eptJaiJdU",
        "outputId": "f84a50c8-3740-4c72-af54-f79615d2540d"
      },
      "execution_count": null,
      "outputs": [
        {
          "output_type": "stream",
          "name": "stdout",
          "text": [
            "[100, 2, 3]\n"
          ]
        }
      ]
    },
    {
      "cell_type": "code",
      "source": [
        "my_list = [1 , 2 , 3 , \"pw skills\"]\n",
        "my_list[3] = 100\n",
        "print(my_list)\n"
      ],
      "metadata": {
        "colab": {
          "base_uri": "https://localhost:8080/"
        },
        "id": "GPp2NtOYiHQw",
        "outputId": "3fac7f85-37cc-43ec-cb44-0c76cb62dd81"
      },
      "execution_count": null,
      "outputs": [
        {
          "output_type": "stream",
          "name": "stdout",
          "text": [
            "[1, 2, 3, 100]\n"
          ]
        }
      ]
    },
    {
      "cell_type": "code",
      "source": [
        "# immutables"
      ],
      "metadata": {
        "id": "htoKUICukIQW"
      },
      "execution_count": null,
      "outputs": []
    },
    {
      "cell_type": "code",
      "source": [
        "name = \"Shivam\"\n",
        "name[0] = \"P\"\n"
      ],
      "metadata": {
        "colab": {
          "base_uri": "https://localhost:8080/",
          "height": 163
        },
        "id": "kS--eysPkMml",
        "outputId": "25063d71-14ba-4646-fe58-a46a64741cc0"
      },
      "execution_count": null,
      "outputs": [
        {
          "output_type": "error",
          "ename": "TypeError",
          "evalue": "'str' object does not support item assignment",
          "traceback": [
            "\u001b[0;31m---------------------------------------------------------------------------\u001b[0m",
            "\u001b[0;31mTypeError\u001b[0m                                 Traceback (most recent call last)",
            "\u001b[0;32m/tmp/ipython-input-102-3450467507.py\u001b[0m in \u001b[0;36m<cell line: 0>\u001b[0;34m()\u001b[0m\n\u001b[1;32m      1\u001b[0m \u001b[0mname\u001b[0m \u001b[0;34m=\u001b[0m \u001b[0;34m\"Shivam\"\u001b[0m\u001b[0;34m\u001b[0m\u001b[0;34m\u001b[0m\u001b[0m\n\u001b[0;32m----> 2\u001b[0;31m \u001b[0mname\u001b[0m\u001b[0;34m[\u001b[0m\u001b[0;36m0\u001b[0m\u001b[0;34m]\u001b[0m \u001b[0;34m=\u001b[0m \u001b[0;34m\"P\"\u001b[0m\u001b[0;34m\u001b[0m\u001b[0;34m\u001b[0m\u001b[0m\n\u001b[0m",
            "\u001b[0;31mTypeError\u001b[0m: 'str' object does not support item assignment"
          ]
        }
      ]
    },
    {
      "cell_type": "markdown",
      "source": [
        "Q . 7 Write a program that performs basic arithmetic operations on two user-input numbers ?\n",
        "\n",
        "Answer ="
      ],
      "metadata": {
        "id": "4QAXSA2-W_sO"
      }
    },
    {
      "cell_type": "code",
      "source": [
        "num1 = int(input(\"enter num 1 \"))\n",
        "num2 = int(input(\"enter num 2 \"))\n",
        "addition = num1 + num2\n",
        "print(f\"the addition of {num1} and {num2 } is {addition}\")\n",
        "substraction = num1 - num2\n",
        "print(f\"the substraction of {num1} and {num2} is {substraction}\")\n",
        "multiplication = num1 * num2\n",
        "print(f\"the multiplication of {num1} and {num2 }is {multiplication}\")\n",
        "division = num1 / num2\n",
        "print(f\"the division of {num1} and  {num2}is {division}\")"
      ],
      "metadata": {
        "id": "mYQ9OBjTkcm5",
        "colab": {
          "base_uri": "https://localhost:8080/"
        },
        "outputId": "3d5d2d2c-59ac-492b-d975-b9936ef12c09"
      },
      "execution_count": null,
      "outputs": [
        {
          "output_type": "stream",
          "name": "stdout",
          "text": [
            "enter num 1 22\n",
            "enter num 2 25\n",
            "the addition of 22 and 25 is 47\n",
            "the substraction of 22 and 25 is -3\n",
            "the multiplication of 22 and 25is 550\n",
            "the division of 22 and  25is 0.88\n"
          ]
        }
      ]
    },
    {
      "cell_type": "markdown",
      "source": [
        "Q 8 .  Write a program to demonstrate the use of logical operators."
      ],
      "metadata": {
        "id": "3uJxMaxUXtVD"
      }
    },
    {
      "cell_type": "markdown",
      "source": [],
      "metadata": {
        "id": "B_ChmwGeY5IP"
      }
    },
    {
      "cell_type": "code",
      "source": [
        "# Alcohol purchase eligibility check using logical operators\n",
        "\n",
        "# User input\n",
        "age = int(input(\"Enter your age: \"))\n",
        "has_medical_issue = input(\"Do you have any medical issues? (yes/no): \").lower()\n",
        "parent_permission = input(\"Do you have parental permission? (yes/no): \").lower()\n",
        "\n",
        "# Condition checks\n",
        "is_adult = age >= 21\n",
        "is_healthy = has_medical_issue == \"no\"\n",
        "has_permission = parent_permission == \"yes\"\n",
        "\n",
        "# Check eligibility to drink alcohol\n",
        "# Legal age AND medically fit\n",
        "if is_adult and is_healthy:\n",
        "    print(\"✅ You are legally allowed and fit to consume alcohol.\")\n",
        "\n",
        "# Underage but has parental permission (not recommended)\n",
        "elif age >= 18 and not is_adult and has_permission and is_healthy:\n",
        "    print(\"⚠️ You are underage but have parental permission. Legality may vary.\")\n",
        "\n",
        "# Demonstrate logical OR\n",
        "if is_adult or has_permission:\n",
        "    print(\"ℹ️ You meet at least one condition for consideration (adult or permission).\")\n",
        "else:\n",
        "    print(\"❌ You do not meet basic conditions (not adult, no permission).\")\n",
        "\n",
        "# Demonstrate logical NOT\n",
        "if not is_healthy:\n",
        "    print(\"🚫 You should not consume alcohol due to medical issues.\")\n"
      ],
      "metadata": {
        "colab": {
          "base_uri": "https://localhost:8080/"
        },
        "id": "mEhMUG67Xiuc",
        "outputId": "1794d149-f8f0-4415-cc01-9acec457a182"
      },
      "execution_count": null,
      "outputs": [
        {
          "output_type": "stream",
          "name": "stdout",
          "text": [
            "Enter your age: 29\n",
            "Do you have any medical issues? (yes/no): no\n",
            "Do you have parental permission? (yes/no): yes\n",
            "✅ You are legally allowed and fit to consume alcohol.\n",
            "ℹ️ You meet at least one condition for consideration (adult or permission).\n"
          ]
        }
      ]
    },
    {
      "cell_type": "code",
      "source": [
        "# Alcohol purchase eligibility check using logical operators\n",
        "\n",
        "# User input\n",
        "age = int(input(\"Enter your age: \"))\n",
        "has_medical_issue = input(\"Do you have any medical issues? (yes/no): \").lower()\n",
        "parent_permission = input(\"Do you have parental permission? (yes/no): \").lower()\n",
        "\n",
        "# Condition checks\n",
        "is_adult = age >= 21\n",
        "is_healthy = has_medical_issue == \"no\"\n",
        "has_permission = parent_permission == \"yes\"\n",
        "\n",
        "# Check eligibility to drink alcohol\n",
        "# Legal age AND medically fit\n",
        "if is_adult and is_healthy:\n",
        "    print(\"✅ You are legally allowed and fit to consume alcohol.\")\n",
        "\n",
        "# Underage but has parental permission (not recommended)\n",
        "elif age >= 18 and not is_adult and has_permission and is_healthy:\n",
        "    print(\"⚠️ You are underage but have parental permission. Legality may vary.\")\n",
        "\n",
        "# Demonstrate logical OR\n",
        "if is_adult or has_permission:\n",
        "    print(\"ℹ️ You meet at least one condition for consideration (adult or permission).\")\n",
        "else:\n",
        "    print(\"❌ You do not meet basic conditions (not adult, no permission).\")\n",
        "\n",
        "# Demonstrate logical NOT\n",
        "if not is_healthy:\n",
        "    print(\"🚫 You should not consume alcohol due to medical issues.\")\n"
      ],
      "metadata": {
        "colab": {
          "base_uri": "https://localhost:8080/"
        },
        "id": "JWUl7PihZsOZ",
        "outputId": "6be7a5d5-fd03-4914-b563-5d831be52dbb"
      },
      "execution_count": null,
      "outputs": [
        {
          "output_type": "stream",
          "name": "stdout",
          "text": [
            "Enter your age: 20\n",
            "Do you have any medical issues? (yes/no): yes\n",
            "Do you have parental permission? (yes/no): no\n",
            "❌ You do not meet basic conditions (not adult, no permission).\n",
            "🚫 You should not consume alcohol due to medical issues.\n"
          ]
        }
      ]
    },
    {
      "cell_type": "markdown",
      "source": [
        "Q 9 . Write a Python program to convert user input from string to integer, float, and boolean type ?"
      ],
      "metadata": {
        "id": "1rZHbsHCZ2M7"
      }
    },
    {
      "cell_type": "code",
      "source": [
        "\n",
        "\n",
        "\n"
      ],
      "metadata": {
        "id": "t4js2zO1Z10h"
      },
      "execution_count": null,
      "outputs": []
    },
    {
      "cell_type": "markdown",
      "source": [
        "Q 10  Write code to demonstrate type casting with list elements ?"
      ],
      "metadata": {
        "id": "6-FxhyAabjZu"
      }
    },
    {
      "cell_type": "code",
      "source": [
        "# List of strings\n",
        "data = [\"10\", \"20\", \"30\"]\n",
        "\n",
        "# Convert to integers\n",
        "int_list = [int(x) for x in data]\n",
        "\n",
        "# Convert to floats\n",
        "float_list = [float(x) for x in data]\n",
        "\n",
        "# Convert to booleans\n",
        "bool_list = [bool(int(x)) for x in data]  # '0' becomes False, others become True\n",
        "\n",
        "# Print results\n",
        "print(\"Original List:\", data)\n",
        "print(\"As Integers:\", int_list)\n",
        "print(\"As Floats:\", float_list)\n",
        "print(\"As Booleans:\", bool_list)\n"
      ],
      "metadata": {
        "colab": {
          "base_uri": "https://localhost:8080/"
        },
        "id": "e11zKikTbpyu",
        "outputId": "11ecd32e-e881-4ca3-cd4b-88e72cc349ab"
      },
      "execution_count": null,
      "outputs": [
        {
          "output_type": "stream",
          "name": "stdout",
          "text": [
            "Original List: ['10', '20', '30']\n",
            "As Integers: [10, 20, 30]\n",
            "As Floats: [10.0, 20.0, 30.0]\n",
            "As Booleans: [True, True, True]\n"
          ]
        }
      ]
    },
    {
      "cell_type": "markdown",
      "source": [
        "Q 11 .  Write a program that checks if a number is positive, negative, or zero."
      ],
      "metadata": {
        "id": "NPkScj52cpSw"
      }
    },
    {
      "cell_type": "code",
      "source": [
        "\n",
        "num = float(input(\"Enter a number: \"))\n",
        "\n",
        "if num > 0:\n",
        "    print(\"The number is Positive.\")\n",
        "elif num < 0:\n",
        "    print(\"The number is Negative.\")\n",
        "else:\n",
        "    print(\"The number is Zero.\")\n"
      ],
      "metadata": {
        "colab": {
          "base_uri": "https://localhost:8080/"
        },
        "id": "n2HwYjHYceV_",
        "outputId": "9a593567-3498-490c-d5df-34708924d218"
      },
      "execution_count": null,
      "outputs": [
        {
          "output_type": "stream",
          "name": "stdout",
          "text": [
            "Enter a number: -1\n",
            "The number is Negative.\n"
          ]
        }
      ]
    },
    {
      "cell_type": "code",
      "source": [
        "num = float(input(\"Enter a number: \"))\n",
        "\n",
        "if num > 0:\n",
        "    print(\"The number is Positive.\")\n",
        "elif num < 0:\n",
        "    print(\"The number is Negative.\")\n",
        "else:\n",
        "    print(\"The number is Zero.\")"
      ],
      "metadata": {
        "colab": {
          "base_uri": "https://localhost:8080/"
        },
        "id": "rQneSU-dcJ4S",
        "outputId": "fc2ef890-3e20-43d7-ca07-379d6f6900a7"
      },
      "execution_count": null,
      "outputs": [
        {
          "output_type": "stream",
          "name": "stdout",
          "text": [
            "Enter a number: 19\n",
            "The number is Positive.\n"
          ]
        }
      ]
    },
    {
      "cell_type": "markdown",
      "source": [
        "Q 12  Write a for loop to print numbers from 1 to 10."
      ],
      "metadata": {
        "id": "awfYWq_7dKIc"
      }
    },
    {
      "cell_type": "code",
      "source": [
        "# for loops\n",
        "\n",
        "for i in range(10):\n",
        "    print(i + 1)"
      ],
      "metadata": {
        "colab": {
          "base_uri": "https://localhost:8080/"
        },
        "id": "V6wjvHyadI7A",
        "outputId": "5b31815d-9c85-41aa-f60f-a1f5f745b67f"
      },
      "execution_count": null,
      "outputs": [
        {
          "output_type": "stream",
          "name": "stdout",
          "text": [
            "1\n",
            "2\n",
            "3\n",
            "4\n",
            "5\n",
            "6\n",
            "7\n",
            "8\n",
            "9\n",
            "10\n"
          ]
        }
      ]
    },
    {
      "cell_type": "markdown",
      "source": [
        "Q 13  Write a Python program to find the sum of all even numbers between 1 and 50."
      ],
      "metadata": {
        "id": "80aXgEtxdgAg"
      }
    },
    {
      "cell_type": "code",
      "source": [
        "\n",
        "total = 0\n",
        "\n",
        "\n",
        "for num in range(1, 50):\n",
        "    if num % 2 == 0:\n",
        "        total += num\n",
        "\n",
        "print(\"Sum of all even numbers from 1 to 50 is:\", total)\n"
      ],
      "metadata": {
        "colab": {
          "base_uri": "https://localhost:8080/"
        },
        "id": "qS_qdq9vdnyV",
        "outputId": "73e7ac16-27f1-4d59-a442-a8d0483758e9"
      },
      "execution_count": null,
      "outputs": [
        {
          "output_type": "stream",
          "name": "stdout",
          "text": [
            "Sum of all even numbers from 1 to 50 is: 600\n"
          ]
        }
      ]
    },
    {
      "cell_type": "markdown",
      "source": [
        "Q 14 .  Write a program to reverse a string using a while loop."
      ],
      "metadata": {
        "id": "O6vBHcled_p5"
      }
    },
    {
      "cell_type": "code",
      "source": [
        "text = input(\"Enter a string: \")\n",
        "\n",
        "i = len(text) - 1\n",
        "reverse = \"\"\n",
        "\n",
        "while i >= 0:\n",
        "    reverse = reverse + text[i]\n",
        "    i = i - 1\n",
        "\n",
        "print(\"Reversed string:\", reverse)\n",
        "\n"
      ],
      "metadata": {
        "colab": {
          "base_uri": "https://localhost:8080/"
        },
        "id": "7Ehn3woeeHYQ",
        "outputId": "0962d24d-197f-4e7e-c5f4-7cfa9a56cda8"
      },
      "execution_count": null,
      "outputs": [
        {
          "output_type": "stream",
          "name": "stdout",
          "text": [
            "Enter a string: \" shivam sodhani \"\n",
            "Reversed string: \" inahdos mavihs \"\n"
          ]
        }
      ]
    },
    {
      "cell_type": "code",
      "source": [],
      "metadata": {
        "id": "_GWLtblBgBd6"
      },
      "execution_count": null,
      "outputs": []
    },
    {
      "cell_type": "code",
      "source": [],
      "metadata": {
        "id": "0-VTstqYfyg-"
      },
      "execution_count": null,
      "outputs": []
    },
    {
      "cell_type": "markdown",
      "source": [
        "Q 15 .  Write a Python program to calculate the factorial of a number provided by the user using a while loop"
      ],
      "metadata": {
        "id": "KEBLu75BfPSx"
      }
    },
    {
      "cell_type": "code",
      "source": [
        "\n",
        "num = int(input(\"Enter a number: \"))\n",
        "\n",
        "factorial = 1\n",
        "i = 1\n",
        "\n",
        "while i <= num:\n",
        "    factorial *= i\n",
        "    i += 1\n",
        "\n",
        "print(\"Factorial of\", num, \"is:\", factorial)\n"
      ],
      "metadata": {
        "colab": {
          "base_uri": "https://localhost:8080/"
        },
        "id": "vMR2sVynfXL8",
        "outputId": "ed7a4f1e-5d99-4930-de51-e72568e147c4"
      },
      "execution_count": null,
      "outputs": [
        {
          "output_type": "stream",
          "name": "stdout",
          "text": [
            "Enter a number: 10\n",
            "Factorial of 10 is: 3628800\n"
          ]
        }
      ]
    },
    {
      "cell_type": "code",
      "source": [],
      "metadata": {
        "id": "zVsaj2vneTyK"
      },
      "execution_count": null,
      "outputs": []
    },
    {
      "cell_type": "code",
      "source": [],
      "metadata": {
        "id": "CDmElT-OeR4H"
      },
      "execution_count": null,
      "outputs": []
    },
    {
      "cell_type": "code",
      "source": [],
      "metadata": {
        "id": "AYjW-Qm2eQ2Z"
      },
      "execution_count": null,
      "outputs": []
    }
  ]
}